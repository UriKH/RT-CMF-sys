{
 "cells": [
  {
   "cell_type": "code",
   "id": "initial_id",
   "metadata": {
    "collapsed": true,
    "ExecuteTime": {
     "end_time": "2025-09-14T12:52:45.598071Z",
     "start_time": "2025-09-14T12:52:45.593541Z"
    }
   },
   "source": [
    "from ramanujantools.cmf import pFq\n",
    "import sympy as sp\n",
    "from sympy.solvers import linsolve\n",
    "from typing import List, Dict, FrozenSet, Set\n",
    "\n",
    "from sympy.unify import unify\n"
   ],
   "outputs": [],
   "execution_count": 33
  },
  {
   "metadata": {
    "ExecuteTime": {
     "end_time": "2025-09-14T12:52:46.159701Z",
     "start_time": "2025-09-14T12:52:46.147198Z"
    }
   },
   "cell_type": "code",
   "source": [
    "pi = pFq(2, 1, sp.Rational(1, 2))\n",
    "pi"
   ],
   "id": "f14b3a2c980a09ea",
   "outputs": [
    {
     "data": {
      "text/plain": [
       "pFq((2, 1, 1/2, True, True))"
      ],
      "text/latex": "\\begin{array}{l}x_{0} \\mapsto \\left[\\begin{matrix}1 & x_{1}\\\\\\frac{1}{x_{0}} & 1 + \\frac{x_{0} + x_{1} - 2 y_{0} + 2}{x_{0}}\\end{matrix}\\right]\\\\ x_{1} \\mapsto \\left[\\begin{matrix}1 & x_{0}\\\\\\frac{1}{x_{1}} & 1 + \\frac{x_{0} + x_{1} - 2 y_{0} + 2}{x_{1}}\\end{matrix}\\right]\\\\ y_{0} \\mapsto \\left[\\begin{matrix}- \\frac{y_{0} \\left(x_{0} + x_{1} - y_{0}\\right)}{\\left(x_{0} - y_{0}\\right) \\left(x_{1} - y_{0}\\right)} & \\frac{x_{0} x_{1} y_{0}}{\\left(x_{0} - y_{0}\\right) \\left(x_{1} - y_{0}\\right)}\\\\\\frac{y_{0}}{\\left(x_{0} - y_{0}\\right) \\left(x_{1} - y_{0}\\right)} & - \\frac{y_{0}^{2}}{\\left(x_{0} - y_{0}\\right) \\left(x_{1} - y_{0}\\right)}\\end{matrix}\\right]\\end{array}"
     },
     "execution_count": 34,
     "metadata": {},
     "output_type": "execute_result"
    }
   ],
   "execution_count": 34
  },
  {
   "metadata": {
    "ExecuteTime": {
     "end_time": "2025-09-14T13:10:30.020342Z",
     "start_time": "2025-09-14T13:10:29.972153Z"
    }
   },
   "cell_type": "code",
   "source": [
    "def zero_det_solve(mat: sp.Matrix) -> Set[FrozenSet]:\n",
    "    return freeze(sp.solve(mat.det()))\n",
    "\n",
    "def undefined_solve(mat: sp.Matrix) -> (list, list):\n",
    "    l = []\n",
    "    for v in mat.iter_values():\n",
    "        if (den := v.as_numer_denom()[1]) == 1:\n",
    "            continue\n",
    "        for sym in den.free_symbols:\n",
    "            for sol in sp.solve(den, sym):\n",
    "                l.append({sym: sol})\n",
    "    return freeze(l)\n",
    "\n",
    "def freeze(l) -> Set[FrozenSet]:\n",
    "    sols = set()\n",
    "    for sol in l:\n",
    "        sols.add(frozenset(sol.items()))\n",
    "    return sols\n",
    "\n",
    "def unfreeze(sols):\n",
    "    clean = [set(tuple(sol)[0]) for sol in sols]\n",
    "    solutions = set(tuple(tup) for tup in clean)\n",
    "    return list(solutions)\n",
    "\n",
    "shard_data = {}\n",
    "data = set()\n",
    "for sym, mat in pi.matrices.items():\n",
    "    z_det = zero_det_solve(mat)\n",
    "    undef = undefined_solve(mat)\n",
    "    uni = z_det.union(undef)\n",
    "    data = data.union(uni)\n",
    "    shard_data[sym] = {'0_det': unfreeze(z_det), 'undef': unfreeze(undef) , 'unified': unfreeze(uni)}\n",
    "data\n",
    "\n"
   ],
   "id": "aa10aa7f8504e083",
   "outputs": [
    {
     "data": {
      "text/plain": [
       "{frozenset({(x1, y0 - 1)}),\n",
       " frozenset({(y0, 0)}),\n",
       " frozenset({(x0, 0)}),\n",
       " frozenset({(x0, y0 - 1)}),\n",
       " frozenset({(y0, x1)}),\n",
       " frozenset({(x1, y0)}),\n",
       " frozenset({(x0, y0)}),\n",
       " frozenset({(x1, 0)}),\n",
       " frozenset({(y0, x0)})}"
      ]
     },
     "execution_count": 77,
     "metadata": {},
     "output_type": "execute_result"
    }
   ],
   "execution_count": 77
  },
  {
   "metadata": {
    "ExecuteTime": {
     "end_time": "2025-09-14T13:01:57.012962Z",
     "start_time": "2025-09-14T13:01:57.008539Z"
    }
   },
   "cell_type": "code",
   "source": [
    "def unify(eqs1: Set[FrozenSet], eqs2: Set[FrozenSet]):\n",
    "    total = eqs1.union(eqs2)\n",
    "    fixed = []\n",
    "    print(total)\n",
    "    for eq in total:\n",
    "        fixed.append(dict(eq))\n",
    "    return fixed"
   ],
   "id": "87910dac52bcc202",
   "outputs": [],
   "execution_count": 67
  },
  {
   "metadata": {
    "ExecuteTime": {
     "end_time": "2025-09-14T12:50:53.765638Z",
     "start_time": "2025-09-14T12:50:53.763271Z"
    }
   },
   "cell_type": "code",
   "source": "class",
   "id": "b153450e0db2d666",
   "outputs": [],
   "execution_count": null
  },
  {
   "metadata": {},
   "cell_type": "code",
   "outputs": [],
   "execution_count": null,
   "source": "",
   "id": "548ba980241d0d8f"
  }
 ],
 "metadata": {
  "kernelspec": {
   "display_name": "Python 3",
   "language": "python",
   "name": "python3"
  },
  "language_info": {
   "codemirror_mode": {
    "name": "ipython",
    "version": 2
   },
   "file_extension": ".py",
   "mimetype": "text/x-python",
   "name": "python",
   "nbconvert_exporter": "python",
   "pygments_lexer": "ipython2",
   "version": "2.7.6"
  }
 },
 "nbformat": 4,
 "nbformat_minor": 5
}
