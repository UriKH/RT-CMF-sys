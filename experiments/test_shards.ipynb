{
 "cells": [
  {
   "cell_type": "code",
   "id": "initial_id",
   "metadata": {
    "collapsed": true,
    "ExecuteTime": {
     "end_time": "2025-09-20T13:17:46.519180Z",
     "start_time": "2025-09-20T13:17:41.497002Z"
    }
   },
   "source": [
    "import time\n",
    "\n",
    "from dns.dnssec import validate\n",
    "from ramanujantools.cmf import pFq\n",
    "import sympy as sp\n",
    "from sympy.solvers import linsolve\n",
    "from typing import List, Dict, FrozenSet, Set\n",
    "\n",
    "from sympy.unify import unify\n"
   ],
   "outputs": [],
   "execution_count": 1
  },
  {
   "metadata": {
    "ExecuteTime": {
     "end_time": "2025-09-20T13:17:46.634232Z",
     "start_time": "2025-09-20T13:17:46.539066Z"
    }
   },
   "cell_type": "code",
   "source": [
    "pi = pFq(2, 1, sp.Rational(1, 2))\n",
    "pi"
   ],
   "id": "f14b3a2c980a09ea",
   "outputs": [
    {
     "data": {
      "text/plain": [
       "pFq((2, 1, 1/2, True, True))"
      ],
      "text/latex": "\\begin{array}{l}x_{0} \\mapsto \\left[\\begin{matrix}1 & x_{1}\\\\\\frac{1}{x_{0}} & 1 + \\frac{x_{0} + x_{1} - 2 y_{0} + 2}{x_{0}}\\end{matrix}\\right]\\\\ x_{1} \\mapsto \\left[\\begin{matrix}1 & x_{0}\\\\\\frac{1}{x_{1}} & 1 + \\frac{x_{0} + x_{1} - 2 y_{0} + 2}{x_{1}}\\end{matrix}\\right]\\\\ y_{0} \\mapsto \\left[\\begin{matrix}- \\frac{y_{0} \\left(x_{0} + x_{1} - y_{0}\\right)}{\\left(x_{0} - y_{0}\\right) \\left(x_{1} - y_{0}\\right)} & \\frac{x_{0} x_{1} y_{0}}{\\left(x_{0} - y_{0}\\right) \\left(x_{1} - y_{0}\\right)}\\\\\\frac{y_{0}}{\\left(x_{0} - y_{0}\\right) \\left(x_{1} - y_{0}\\right)} & - \\frac{y_{0}^{2}}{\\left(x_{0} - y_{0}\\right) \\left(x_{1} - y_{0}\\right)}\\end{matrix}\\right]\\end{array}"
     },
     "execution_count": 2,
     "metadata": {},
     "output_type": "execute_result"
    }
   ],
   "execution_count": 2
  },
  {
   "metadata": {
    "ExecuteTime": {
     "end_time": "2025-09-20T13:17:47.549560Z",
     "start_time": "2025-09-20T13:17:47.282729Z"
    }
   },
   "cell_type": "code",
   "source": [
    "def zero_det_solve(mat: sp.Matrix) -> Set[FrozenSet]:\n",
    "    return freeze(sp.solve(mat.det()))\n",
    "\n",
    "def undefined_solve(mat: sp.Matrix) -> (list, list):\n",
    "    l = []\n",
    "    for v in mat.iter_values():\n",
    "        if (den := v.as_numer_denom()[1]) == 1:\n",
    "            continue\n",
    "        for sym in den.free_symbols:\n",
    "            for sol in sp.solve(den, sym):\n",
    "                l.append({sym: sol})\n",
    "    return freeze(l)\n",
    "\n",
    "def freeze(l):\n",
    "    sols = set()\n",
    "    for sol in l:\n",
    "        sols.add(tuple(set(sol.items()))[0])\n",
    "    return sols\n",
    "\n",
    "def unfreeze(sols):\n",
    "    clean = [set(sol) for sol in sols]\n",
    "    solutions = set(tuple(tup) for tup in clean)\n",
    "    return list(solutions)\n",
    "\n",
    "shard_data = {}\n",
    "data = set()\n",
    "for sym, mat in pi.matrices.items():\n",
    "    z_det = zero_det_solve(mat)\n",
    "    undef = undefined_solve(mat)\n",
    "    uni = z_det.union(undef)\n",
    "    # print(undef)\n",
    "    data = data.union(uni)\n",
    "    # shard_data[sym] = {'0_det': unfreeze(z_det), 'undef': unfreeze(undef) , 'unified': unfreeze(uni)}\n",
    "print(data)\n",
    "data = unfreeze(data)\n",
    "data\n"
   ],
   "id": "aa10aa7f8504e083",
   "outputs": [
    {
     "name": "stdout",
     "output_type": "stream",
     "text": [
      "{(x1, 0), (x0, y0), (x1, y0), (y0, 0), (y0, x1), (y0, x0), (x0, y0 - 1), (x1, y0 - 1), (x0, 0)}\n"
     ]
    },
    {
     "data": {
      "text/plain": [
       "[(0, y0), (0, x1), (y0, x1), (0, x0), (y0, x0), (x0, y0 - 1), (x1, y0 - 1)]"
      ]
     },
     "execution_count": 3,
     "metadata": {},
     "output_type": "execute_result"
    }
   ],
   "execution_count": 3
  },
  {
   "metadata": {
    "ExecuteTime": {
     "end_time": "2025-09-20T13:17:47.686232Z",
     "start_time": "2025-09-20T13:17:47.679965Z"
    }
   },
   "cell_type": "code",
   "source": [
    "def __extract_shards_data(cmf):\n",
    "    def solve_shards(mat: sp.Matrix):\n",
    "        l = []\n",
    "        for v in mat.iter_values():\n",
    "            if (den := v.as_numer_denom()[1]) == 1:\n",
    "                continue\n",
    "            l += [{sym: sol} for sym in den.free_symbols for sol in sp.solve(den, sym)]\n",
    "            # for sym in den.free_symbols:\n",
    "            #     for sol in sp.solve(den, sym):\n",
    "            #         l.append({sym: sol})\n",
    "        return freeze(l), freeze(sp.solve(mat.det()))\n",
    "\n",
    "    def freeze(l):\n",
    "        return set(tuple(set(sol.items()))[0] for sol in l)\n",
    "\n",
    "    def unfreeze(sols):\n",
    "        clean = [set(sol) for sol in sols]\n",
    "        solutions = set(tuple(tup) for tup in clean)\n",
    "        return list(solutions)  # type checker shouts, but this is correct!\n",
    "\n",
    "    data = set()\n",
    "    for mat in cmf.matrices.values():\n",
    "        undef, z_det = solve_shards(mat)\n",
    "        data = data.union(z_det.union(undef))\n",
    "    return unfreeze(data), list(cmf.matrices.keys())"
   ],
   "id": "87910dac52bcc202",
   "outputs": [],
   "execution_count": 4
  },
  {
   "metadata": {
    "ExecuteTime": {
     "end_time": "2025-09-20T13:17:47.793930Z",
     "start_time": "2025-09-20T13:17:47.747900Z"
    }
   },
   "cell_type": "code",
   "source": "__extract_shards_data(pi)[0]",
   "id": "b153450e0db2d666",
   "outputs": [
    {
     "data": {
      "text/plain": [
       "[(0, y0), (0, x1), (y0, x1), (0, x0), (y0, x0), (x0, y0 - 1), (x1, y0 - 1)]"
      ]
     },
     "execution_count": 5,
     "metadata": {},
     "output_type": "execute_result"
    }
   ],
   "execution_count": 5
  },
  {
   "metadata": {
    "ExecuteTime": {
     "end_time": "2025-09-20T13:17:57.908294Z",
     "start_time": "2025-09-20T13:17:57.903999Z"
    }
   },
   "cell_type": "code",
   "source": [
    "def format_expression(l):\n",
    "    return [exp2 - exp1 for exp1, exp2 in l]"
   ],
   "id": "548ba980241d0d8f",
   "outputs": [],
   "execution_count": 7
  },
  {
   "metadata": {
    "ExecuteTime": {
     "end_time": "2025-09-20T13:25:34.999305Z",
     "start_time": "2025-09-20T13:25:32.875998Z"
    }
   },
   "cell_type": "code",
   "source": "format_expression(__extract_shards_data(pFq(3, 2, 1))[0])",
   "id": "1d754a2d5a18a904",
   "outputs": [
    {
     "name": "stdout",
     "output_type": "stream",
     "text": [
      "ERROR! Session/line number was not unique in database. History logging moved to new session 248\n"
     ]
    },
    {
     "data": {
      "text/plain": [
       "[x2,\n",
       " y0,\n",
       " -x0 - x1 - x2 + y0 + y1 - 2,\n",
       " x0 - y0,\n",
       " x2 - y0 + 1,\n",
       " x1,\n",
       " x0 + x1 + x2 - y0 - y1 + 2,\n",
       " x1 - y1,\n",
       " x0 + x1 + x2 - y0 - y1 + 2,\n",
       " -x0 + y1 - 1,\n",
       " x2 - y0,\n",
       " x1 - y1 + 1,\n",
       " -x1 + y0 - 1,\n",
       " x0,\n",
       " x0 + x1 + x2 - y0 - y1 + 2,\n",
       " x0 - y1,\n",
       " x2 - y1 + 1,\n",
       " -x0 + y0 - 1,\n",
       " y1,\n",
       " x0 + x1 + x2 - y0 - y1 + 2,\n",
       " x0 + x1 + x2 - y0 - y1 + 1,\n",
       " x1 - y0,\n",
       " x2 - y1]"
      ]
     },
     "execution_count": 8,
     "metadata": {},
     "output_type": "execute_result"
    }
   ],
   "execution_count": 8
  },
  {
   "metadata": {
    "ExecuteTime": {
     "end_time": "2025-09-15T10:09:15.191413Z",
     "start_time": "2025-09-15T10:09:10.090368Z"
    }
   },
   "cell_type": "code",
   "source": [
    "from utils.util_types import *\n",
    "from ramanujantools.cmf import CMF\n",
    "from functools import lru_cache\n",
    "from analysis_stage.searchable import Searchable\n",
    "from utils.util_types import *\n",
    "\n",
    "\n",
    "class Shard(Searchable):\n",
    "    def __init__(self,\n",
    "                 hps: List[sp.Expr],\n",
    "                 symbols: List[sp.Symbol],\n",
    "                 shard_id: Tuple[int | sp.Rational, ...]):\n",
    "        self.hps = hps\n",
    "        self.symbols = symbols\n",
    "        self.shard_id = shard_id\n",
    "\n",
    "    def __eq__(self, other) -> bool:\n",
    "        if isinstance(other, Shard):\n",
    "            return self.shard_id == other.shard_id\n",
    "        raise NotImplementedError\n",
    "\n",
    "    def __hash__(self):\n",
    "        return hash(self.shard_id)\n",
    "\n",
    "    def in_shard(self, point: Tuple[int | sp.Rational, ...]) -> bool:\n",
    "        point = {sym: v for sym, v in zip(self.symbols, point)}\n",
    "        return all(exp.subs(point) == indicator for exp, indicator in zip(self.hps, self.shard_id))\n",
    "\n",
    "    def __repr__(self):\n",
    "        return str(self.shard_id)\n",
    "\n",
    "from itertools import product\n",
    "from scipy.optimize import linprog\n",
    "import numpy as np\n",
    "import time\n",
    "\n",
    "class ShardExtractor:\n",
    "    cache: bool = True\n",
    "\n",
    "    def __init__(self, cmf: CMF, shifts: List[Shift]):\n",
    "        self.cmf = cmf\n",
    "        self.shifts = shifts\n",
    "        self.hps, self.symbols = self.extract_shard_hyperplanes(cmf)\n",
    "\n",
    "    @staticmethod\n",
    "    def extract_shard_hyperplanes(cmf: CMF) -> Tuple[List[sp.Expr], List[sp.Symbol]]:\n",
    "        def solve_shards(mat: sp.Matrix) -> Tuple[Set[EqTup], Set[EqTup]]:\n",
    "            l = []\n",
    "            for v in mat.iter_values():\n",
    "                if (den := v.as_numer_denom()[1]) == 1:\n",
    "                    continue\n",
    "                l += [{sym: sol} for sym in den.free_symbols for sol in sp.solve(den, sym)]\n",
    "            return freeze(l), freeze(sp.solve(mat.det()))\n",
    "\n",
    "        def freeze(l) -> Set[EqTup]:\n",
    "            return set(tuple(set(sol.items()))[0] for sol in l)\n",
    "\n",
    "        def unfreeze(sols: Set[EqTup]) -> List[EqTup]:\n",
    "            clean = [set(sol) for sol in sols]\n",
    "            solutions = set(tuple(tup) for tup in clean)\n",
    "            return list(solutions)  # type checker shouts, but this is correct!\n",
    "\n",
    "        data = set()\n",
    "        for mat in cmf.matrices.values():\n",
    "            undef, z_det = solve_shards(mat)\n",
    "            data = data.union(z_det.union(undef))\n",
    "        data = unfreeze(data)\n",
    "        return [exp1 - exp2 for exp1, exp2 in data], list(cmf.matrices.keys())\n",
    "\n",
    "    def get_shards(self) -> List[Tuple[int, ...]]:\n",
    "        @lru_cache(maxsize=128 if self.cache else 0)\n",
    "        def expr_to_ineq(expr, greater_than_0: bool = True):\n",
    "            eps = 1e-5\n",
    "            coeffs = expr.as_coefficients_dict()\n",
    "            sign = 1 if greater_than_0 else -1\n",
    "            row = [-sign * coeffs.get(v, 0) for v in self.symbols]\n",
    "            b = sign * coeffs.get(1, 0) - eps\n",
    "            return row, b\n",
    "\n",
    "        def validate_shard(shard: Tuple[int, ...]):\n",
    "            A, b = [], []\n",
    "            for ineq, indicator in zip(self.hps, shard):\n",
    "                row, rhs = expr_to_ineq(ineq, indicator == 1)\n",
    "                A.append(row)\n",
    "                b.append(rhs)\n",
    "            # TODO: I am not sure if we DO ignore false shards we can get by linprog() - i.e. just intersections of many hyperplanes\n",
    "            return linprog(c=list(np.zeros(len(self.symbols))), A_ub=A, b_ub=b, method=\"highs\").success\n",
    "\n",
    "        res = [permutation for permutation in product([+1, -1], repeat=len(self.hps)) if validate_shard(permutation)]\n",
    "        expr_to_ineq.cache_clear()\n",
    "        return res\n",
    "\n",
    "    def encode_point(self, point: Tuple[int | sp.Rational, ...]) -> Tuple[int, ...]:\n",
    "        # TODO: notice that the order of symbols matter to the interpetation of the point!\n",
    "        #  this is importent in maybe other few cases!\n",
    "        point = {sym: val for sym, val in zip(self.symbols, point)}\n",
    "        return tuple((1 if exp.subs(point) > 0 else -1) for exp in self.hps)\n",
    "\n"
   ],
   "id": "6d9e6536c3c1bb1d",
   "outputs": [],
   "execution_count": 9
  },
  {
   "metadata": {
    "ExecuteTime": {
     "end_time": "2025-09-15T10:09:15.397884Z",
     "start_time": "2025-09-15T10:09:15.207062Z"
    }
   },
   "cell_type": "code",
   "source": [
    "# ShardExtractor.extract_shard_hyperplanes(pi)\n",
    "extractor = ShardExtractor(pi, [None])\n",
    "extractor.get_shards()"
   ],
   "id": "a938d4d963687d98",
   "outputs": [
    {
     "data": {
      "text/plain": [
       "[(1, 1, 1, -1, -1, 1, -1),\n",
       " (1, 1, 1, -1, -1, -1, -1),\n",
       " (1, 1, -1, -1, -1, 1, -1),\n",
       " (1, 1, -1, -1, -1, -1, -1),\n",
       " (1, -1, 1, -1, -1, 1, -1),\n",
       " (1, -1, -1, -1, -1, 1, -1),\n",
       " (-1, 1, 1, -1, -1, 1, -1),\n",
       " (-1, 1, 1, -1, -1, -1, -1),\n",
       " (-1, -1, 1, -1, -1, 1, -1)]"
      ]
     },
     "execution_count": 10,
     "metadata": {},
     "output_type": "execute_result"
    }
   ],
   "execution_count": 10
  },
  {
   "metadata": {
    "ExecuteTime": {
     "end_time": "2025-09-15T10:09:55.091046Z",
     "start_time": "2025-09-15T10:09:55.023511Z"
    }
   },
   "cell_type": "code",
   "source": "pFq(3,2,1).matrices.keys()",
   "id": "161e3e9a088da119",
   "outputs": [
    {
     "data": {
      "text/plain": [
       "dict_keys([x0, x1, x2, y0, y1])"
      ]
     },
     "execution_count": 12,
     "metadata": {},
     "output_type": "execute_result"
    }
   ],
   "execution_count": 12
  }
 ],
 "metadata": {
  "kernelspec": {
   "display_name": "Python 3",
   "language": "python",
   "name": "python3"
  },
  "language_info": {
   "codemirror_mode": {
    "name": "ipython",
    "version": 2
   },
   "file_extension": ".py",
   "mimetype": "text/x-python",
   "name": "python",
   "nbconvert_exporter": "python",
   "pygments_lexer": "ipython2",
   "version": "2.7.6"
  }
 },
 "nbformat": 4,
 "nbformat_minor": 5
}
