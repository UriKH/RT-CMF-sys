{
 "cells": [
  {
   "cell_type": "markdown",
   "id": "e3a97c94",
   "metadata": {},
   "source": [
    "Testing trajectory matrices in CMFs"
   ]
  },
  {
   "cell_type": "code",
   "execution_count": 3,
   "id": "0ae86a09",
   "metadata": {},
   "outputs": [],
   "source": [
    "from ramanujantools.cmf import known_cmfs\n",
    "from sympy import simplify\n",
    "import numpy as np\n",
    "import sympy as sp\n",
    "import mpmath as mp\n",
    "\n",
    "import matplotlib.pyplot as plt\n",
    "import numpy as np\n",
    "from sympy import mobius_transform\n",
    "from sympy.abc import x, y, n"
   ]
  },
  {
   "cell_type": "markdown",
   "id": "e40c8d37",
   "metadata": {},
   "source": [
    "Here I wanted to make sure I understand how to create the trajectory matrix in the form: $M_{(a,b)} = M_x^a \\cdot M_y^b$"
   ]
  },
  {
   "cell_type": "code",
   "execution_count": 4,
   "id": "b982fb77",
   "metadata": {},
   "outputs": [],
   "source": [
    "M1 = sp.Matrix([\n",
    "    [0, -1], \n",
    "    [((x+1) **3) / (x**3) , (x**3 + 2*y*(2*x+1) *(y-1) + (x+1)**3)/ (x**3)]\n",
    "])\n",
    "\n",
    "M2 = sp.Matrix([\n",
    "    [(-x**3 + 2*x**2 * y -2*x*y**2 + y**3) / (y**3), - x**3 / y**3],\n",
    "    [x**3 / y**3, (x**3 + 2*x**2+2*x*y**2 + y**3) / y**3]\n",
    "])"
   ]
  },
  {
   "cell_type": "code",
   "execution_count": 5,
   "id": "0f8435e8",
   "metadata": {},
   "outputs": [
    {
     "data": {
      "text/latex": [
       "$\\displaystyle \\left[\\begin{matrix}- \\frac{\\left(x + 2\\right)^{3}}{\\left(x + 1\\right)^{3}} & - \\frac{2 y \\left(2 x + 3\\right) \\left(y - 1\\right) + \\left(x + 1\\right)^{3} + \\left(x + 2\\right)^{3}}{\\left(x + 1\\right)^{3}}\\\\\\frac{\\left(x + 2\\right)^{3} \\left(x^{3} + 2 y \\left(2 x + 1\\right) \\left(y - 1\\right) + \\left(x + 1\\right)^{3}\\right)}{x^{3} \\left(x + 1\\right)^{3}} & - \\frac{\\left(x + 1\\right)^{3}}{x^{3}} + \\frac{\\left(x^{3} + 2 y \\left(2 x + 1\\right) \\left(y - 1\\right) + \\left(x + 1\\right)^{3}\\right) \\left(2 y \\left(2 x + 3\\right) \\left(y - 1\\right) + \\left(x + 1\\right)^{3} + \\left(x + 2\\right)^{3}\\right)}{x^{3} \\left(x + 1\\right)^{3}}\\end{matrix}\\right]$"
      ],
      "text/plain": [
       "Matrix([\n",
       "[                                                  -(x + 2)**3/(x + 1)**3,                                                                      -(2*y*(2*x + 3)*(y - 1) + (x + 1)**3 + (x + 2)**3)/(x + 1)**3],\n",
       "[(x + 2)**3*(x**3 + 2*y*(2*x + 1)*(y - 1) + (x + 1)**3)/(x**3*(x + 1)**3), -(x + 1)**3/x**3 + (x**3 + 2*y*(2*x + 1)*(y - 1) + (x + 1)**3)*(2*y*(2*x + 3)*(y - 1) + (x + 1)**3 + (x + 2)**3)/(x**3*(x + 1)**3)]])"
      ]
     },
     "execution_count": 5,
     "metadata": {},
     "output_type": "execute_result"
    }
   ],
   "source": [
    "M_2_0 = M1 * M1.subs({x: x + 1}) # This is the step matrix - stepping two steps in X direction\n",
    "M_2_0 # as in the paper I guess :)"
   ]
  },
  {
   "cell_type": "markdown",
   "id": "602fe9c4",
   "metadata": {},
   "source": [
    "Lets validate for $M_{(2, 0)}(1,1)$ and $M_{(2, 0)}(-2,0)$"
   ]
  },
  {
   "cell_type": "code",
   "execution_count": 6,
   "id": "2375cadb",
   "metadata": {},
   "outputs": [
    {
     "name": "stdout",
     "output_type": "stream",
     "text": [
      "rank of the matrix is: 2\n"
     ]
    }
   ],
   "source": [
    "# M_1_1\n",
    "temp = M_2_0.subs({x: 1, y: 1})\n",
    "print(f'rank of the matrix is: {temp.rank()}')"
   ]
  },
  {
   "cell_type": "code",
   "execution_count": 7,
   "id": "05cf7533",
   "metadata": {},
   "outputs": [
    {
     "name": "stdout",
     "output_type": "stream",
     "text": [
      "rank of the matrix is: 1\n"
     ]
    },
    {
     "data": {
      "text/latex": [
       "$\\displaystyle \\frac{x^{3} + 6 x^{2} + 12 x + 8}{x^{3}}$"
      ],
      "text/plain": [
       "(x**3 + 6*x**2 + 12*x + 8)/x**3"
      ]
     },
     "execution_count": 7,
     "metadata": {},
     "output_type": "execute_result"
    }
   ],
   "source": [
    "# M_-2_0 - Notice that in this case we pased through the origin and changed a shard!\n",
    "temp = M_2_0.subs({x: -2, y: 0})\n",
    "print(f'rank of the matrix is: {temp.rank()}')\n",
    "M_2_0.det()"
   ]
  },
  {
   "cell_type": "code",
   "execution_count": 16,
   "id": "7d11c4c9",
   "metadata": {},
   "outputs": [
    {
     "data": {
      "text/latex": [
       "$\\displaystyle \\left[\\begin{matrix}\\frac{- x^{3} + 2 x^{2} \\left(y - 1\\right) - 2 x \\left(y - 1\\right)^{2} + \\left(y - 1\\right)^{3}}{\\left(y - 1\\right)^{3}} & \\frac{x^{3}}{\\left(y - 1\\right)^{3}}\\\\- \\frac{x^{3}}{\\left(y - 1\\right)^{3}} & \\frac{x^{3} + 2 x^{2} + 2 x \\left(y - 1\\right)^{2} + \\left(y - 1\\right)^{3}}{\\left(y - 1\\right)^{3}}\\end{matrix}\\right]$"
      ],
      "text/plain": [
       "Matrix([\n",
       "[(-x**3 + 2*x**2*(y - 1) - 2*x*(y - 1)**2 + (y - 1)**3)/(y - 1)**3,                                          x**3/(y - 1)**3],\n",
       "[                                                 -x**3/(y - 1)**3, (x**3 + 2*x**2 + 2*x*(y - 1)**2 + (y - 1)**3)/(y - 1)**3]])"
      ]
     },
     "execution_count": 16,
     "metadata": {},
     "output_type": "execute_result"
    }
   ],
   "source": [
    "# note that this inverse is undefined (i.e. step -1 in y direction)\n",
    "M_0_m1 = M2.T.subs({y: y - 1})\n",
    "temp = M_0_m1.subs({x: 1, y: 1})\n",
    "M_0_m1"
   ]
  },
  {
   "cell_type": "code",
   "execution_count": 17,
   "id": "831503a6",
   "metadata": {},
   "outputs": [
    {
     "data": {
      "text/latex": [
       "$\\displaystyle \\left[\\begin{matrix}\\tilde{\\infty} & \\tilde{\\infty}\\\\\\tilde{\\infty} & \\tilde{\\infty}\\end{matrix}\\right]$"
      ],
      "text/plain": [
       "Matrix([\n",
       "[zoo, zoo],\n",
       "[zoo, zoo]])"
      ]
     },
     "execution_count": 17,
     "metadata": {},
     "output_type": "execute_result"
    }
   ],
   "source": [
    "temp"
   ]
  },
  {
   "cell_type": "markdown",
   "id": "588f2f8f",
   "metadata": {},
   "source": [
    "-------------"
   ]
  },
  {
   "cell_type": "markdown",
   "id": "829466e5",
   "metadata": {},
   "source": [
    "Trajectory composition: $T_{x,v}(k)$"
   ]
  },
  {
   "cell_type": "code",
   "execution_count": 18,
   "id": "11f511ef",
   "metadata": {},
   "outputs": [
    {
     "data": {
      "text/latex": [
       "$\\displaystyle \\left[\\begin{matrix}0 & -1\\\\\\frac{\\left(n + 2\\right)^{3}}{\\left(n + 1\\right)^{3}} & \\frac{\\left(n + 1\\right)^{3} + \\left(n + 2\\right)^{3}}{\\left(n + 1\\right)^{3}}\\end{matrix}\\right]$"
      ],
      "text/plain": [
       "Matrix([\n",
       "[                    0,                                   -1],\n",
       "[(n + 2)**3/(n + 1)**3, ((n + 1)**3 + (n + 2)**3)/(n + 1)**3]])"
      ]
     },
     "execution_count": 18,
     "metadata": {},
     "output_type": "execute_result"
    }
   ],
   "source": [
    "T_1_1_1_0 = M1.subs({x: n + 1, y: 1}) # trajectory in x direction only starting at (1, 1)\n",
    "T_1_1_1_0"
   ]
  },
  {
   "cell_type": "code",
   "execution_count": 19,
   "id": "798bce01",
   "metadata": {},
   "outputs": [
    {
     "data": {
      "text/latex": [
       "$\\displaystyle \\left[\\begin{matrix}- \\frac{\\left(n + 2\\right)^{3}}{\\left(n + 1\\right)^{3}} & - \\frac{\\left(n + 1\\right)^{3} + 2 \\left(n + 1\\right)^{2} \\left(n + 2\\right) + \\left(n + 2\\right)^{3} + 2 \\left(n + 2\\right)^{2}}{\\left(n + 1\\right)^{3}}\\\\\\frac{\\left(n + 2\\right)^{3} \\left(2 n \\left(n + 1\\right) \\left(2 n + 3\\right) + \\left(n + 1\\right)^{3} + \\left(n + 2\\right)^{3}\\right)}{\\left(n + 1\\right)^{6}} + \\frac{\\left(n + 2\\right)^{3} \\left(\\left(n + 1\\right)^{3} - 2 \\left(n + 1\\right)^{2} \\left(n + 2\\right) + 2 \\left(n + 1\\right) \\left(n + 2\\right)^{2} - \\left(n + 2\\right)^{3}\\right)}{\\left(n + 1\\right)^{6}} & - \\frac{\\left(n + 2\\right)^{6}}{\\left(n + 1\\right)^{6}} + \\frac{\\left(2 n \\left(n + 1\\right) \\left(2 n + 3\\right) + \\left(n + 1\\right)^{3} + \\left(n + 2\\right)^{3}\\right) \\left(\\left(n + 1\\right)^{3} + 2 \\left(n + 1\\right)^{2} \\left(n + 2\\right) + \\left(n + 2\\right)^{3} + 2 \\left(n + 2\\right)^{2}\\right)}{\\left(n + 1\\right)^{6}}\\end{matrix}\\right]$"
      ],
      "text/plain": [
       "Matrix([\n",
       "[                                                                                                                                                 -(n + 2)**3/(n + 1)**3,                                                                           -((n + 1)**3 + 2*(n + 1)**2*(n + 2) + (n + 2)**3 + 2*(n + 2)**2)/(n + 1)**3],\n",
       "[(n + 2)**3*(2*n*(n + 1)*(2*n + 3) + (n + 1)**3 + (n + 2)**3)/(n + 1)**6 + (n + 2)**3*((n + 1)**3 - 2*(n + 1)**2*(n + 2) + 2*(n + 1)*(n + 2)**2 - (n + 2)**3)/(n + 1)**6, -(n + 2)**6/(n + 1)**6 + (2*n*(n + 1)*(2*n + 3) + (n + 1)**3 + (n + 2)**3)*((n + 1)**3 + 2*(n + 1)**2*(n + 2) + (n + 2)**3 + 2*(n + 2)**2)/(n + 1)**6]])"
      ]
     },
     "execution_count": 19,
     "metadata": {},
     "output_type": "execute_result"
    }
   ],
   "source": [
    "# General trjectory: start at (a,b) direciton vector (c, d)\n",
    "a= 1\n",
    "b= 1\n",
    "c = 1\n",
    "d = 1\n",
    "\n",
    "start = {x: a + n* (1 if c != 0 else 0), y: b + n*(1 if d != 0 else 0)}\n",
    "traj = (c, d)\n",
    "\n",
    "tm = sp.eye(2)\n",
    "for i in range(c):\n",
    "    tm = tm * M1.subs({x: x + i})\n",
    "for i in range(d):\n",
    "    tm = tm * M2.subs({x: x + c, y: y + i})\n",
    "\n",
    "tm.subs(start)\n",
    "\n",
    "# sp.simplify(tm.subs(start))"
   ]
  },
  {
   "cell_type": "code",
   "execution_count": null,
   "id": "b4afe175",
   "metadata": {},
   "outputs": [],
   "source": []
  },
  {
   "cell_type": "code",
   "execution_count": null,
   "id": "c52da583",
   "metadata": {},
   "outputs": [
    {
     "data": {
      "text/plain": [
       "95.69999999999999"
      ]
     },
     "execution_count": 140,
     "metadata": {},
     "output_type": "execute_result"
    }
   ],
   "source": [
    "# 95 * 0.8 + 0.06 * 100 + 0.03 * 94 + 0.05 * 100 + 0.03 * 100 + 0.03 * 96"
   ]
  },
  {
   "cell_type": "code",
   "execution_count": null,
   "id": "dc5857ab",
   "metadata": {},
   "outputs": [],
   "source": []
  }
 ],
 "metadata": {
  "kernelspec": {
   "display_name": ".venv",
   "language": "python",
   "name": "python3"
  },
  "language_info": {
   "codemirror_mode": {
    "name": "ipython",
    "version": 3
   },
   "file_extension": ".py",
   "mimetype": "text/x-python",
   "name": "python",
   "nbconvert_exporter": "python",
   "pygments_lexer": "ipython3",
   "version": "3.12.6"
  }
 },
 "nbformat": 4,
 "nbformat_minor": 5
}
