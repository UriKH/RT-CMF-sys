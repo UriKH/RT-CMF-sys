{
 "cells": [
  {
   "cell_type": "markdown",
   "id": "e3a97c94",
   "metadata": {},
   "source": [
    "Testing trajectory matrices in CMFs"
   ]
  },
  {
   "cell_type": "code",
   "id": "0ae86a09",
   "metadata": {
    "ExecuteTime": {
     "end_time": "2025-09-21T22:30:37.690710Z",
     "start_time": "2025-09-21T22:30:37.685710Z"
    }
   },
   "source": [
    "from ramanujantools.cmf import known_cmfs\n",
    "from ramanujantools.cmf import pFq\n",
    "from sympy import simplify\n",
    "import numpy as np\n",
    "import sympy as sp\n",
    "import mpmath as mp\n",
    "\n",
    "import matplotlib.pyplot as plt\n",
    "import numpy as np\n",
    "from sympy import mobius_transform\n",
    "from sympy.abc import x, y, n"
   ],
   "outputs": [],
   "execution_count": 23
  },
  {
   "cell_type": "markdown",
   "id": "e40c8d37",
   "metadata": {},
   "source": [
    "Here I wanted to make sure I understand how to create the trajectory matrix in the form: $M_{(a,b)} = M_x^a \\cdot M_y^b$"
   ]
  },
  {
   "cell_type": "code",
   "id": "b982fb77",
   "metadata": {
    "ExecuteTime": {
     "end_time": "2025-09-21T22:30:38.965611Z",
     "start_time": "2025-09-21T22:30:38.955513Z"
    }
   },
   "source": [
    "M1 = sp.Matrix([\n",
    "    [0, -1], \n",
    "    [((x+1) **3) / (x**3) , (x**3 + 2*y*(2*x+1) *(y-1) + (x+1)**3)/ (x**3)]\n",
    "])\n",
    "\n",
    "M2 = sp.Matrix([\n",
    "    [(-x**3 + 2*x**2 * y -2*x*y**2 + y**3) / (y**3), - x**3 / y**3],\n",
    "    [x**3 / y**3, (x**3 + 2*x**2+2*x*y**2 + y**3) / y**3]\n",
    "])"
   ],
   "outputs": [],
   "execution_count": 24
  },
  {
   "cell_type": "code",
   "id": "0f8435e8",
   "metadata": {
    "ExecuteTime": {
     "end_time": "2025-09-21T22:30:39.133518Z",
     "start_time": "2025-09-21T22:30:39.114449Z"
    }
   },
   "source": [
    "M_2_0 = M1 * M1.subs({x: x + 1}) # This is the step matrix - stepping two steps in X direction\n",
    "M_2_0 # as in the paper I guess :)"
   ],
   "outputs": [
    {
     "data": {
      "text/plain": [
       "Matrix([\n",
       "[                                                  -(x + 2)**3/(x + 1)**3,                                                                      -(2*y*(2*x + 3)*(y - 1) + (x + 1)**3 + (x + 2)**3)/(x + 1)**3],\n",
       "[(x + 2)**3*(x**3 + 2*y*(2*x + 1)*(y - 1) + (x + 1)**3)/(x**3*(x + 1)**3), -(x + 1)**3/x**3 + (x**3 + 2*y*(2*x + 1)*(y - 1) + (x + 1)**3)*(2*y*(2*x + 3)*(y - 1) + (x + 1)**3 + (x + 2)**3)/(x**3*(x + 1)**3)]])"
      ],
      "text/latex": "$\\displaystyle \\left[\\begin{matrix}- \\frac{\\left(x + 2\\right)^{3}}{\\left(x + 1\\right)^{3}} & - \\frac{2 y \\left(2 x + 3\\right) \\left(y - 1\\right) + \\left(x + 1\\right)^{3} + \\left(x + 2\\right)^{3}}{\\left(x + 1\\right)^{3}}\\\\\\frac{\\left(x + 2\\right)^{3} \\left(x^{3} + 2 y \\left(2 x + 1\\right) \\left(y - 1\\right) + \\left(x + 1\\right)^{3}\\right)}{x^{3} \\left(x + 1\\right)^{3}} & - \\frac{\\left(x + 1\\right)^{3}}{x^{3}} + \\frac{\\left(x^{3} + 2 y \\left(2 x + 1\\right) \\left(y - 1\\right) + \\left(x + 1\\right)^{3}\\right) \\left(2 y \\left(2 x + 3\\right) \\left(y - 1\\right) + \\left(x + 1\\right)^{3} + \\left(x + 2\\right)^{3}\\right)}{x^{3} \\left(x + 1\\right)^{3}}\\end{matrix}\\right]$"
     },
     "execution_count": 25,
     "metadata": {},
     "output_type": "execute_result"
    }
   ],
   "execution_count": 25
  },
  {
   "cell_type": "markdown",
   "id": "602fe9c4",
   "metadata": {},
   "source": [
    "Lets validate for $M_{(2, 0)}(1,1)$ and $M_{(2, 0)}(-2,0)$"
   ]
  },
  {
   "cell_type": "code",
   "id": "2375cadb",
   "metadata": {
    "ExecuteTime": {
     "end_time": "2025-09-21T22:30:39.407167Z",
     "start_time": "2025-09-21T22:30:39.401147Z"
    }
   },
   "source": [
    "# M_1_1\n",
    "temp = M_2_0.subs({x: 1, y: 1})\n",
    "print(f'rank of the matrix is: {temp.rank()}')"
   ],
   "outputs": [
    {
     "name": "stdout",
     "output_type": "stream",
     "text": [
      "rank of the matrix is: 2\n"
     ]
    }
   ],
   "execution_count": 26
  },
  {
   "cell_type": "code",
   "id": "05cf7533",
   "metadata": {
    "ExecuteTime": {
     "end_time": "2025-09-21T22:30:39.571811Z",
     "start_time": "2025-09-21T22:30:39.550297Z"
    }
   },
   "source": [
    "# M_-2_0 - Notice that in this case we pased through the origin and changed a shard!\n",
    "temp = M_2_0.subs({x: -2, y: 0})\n",
    "print(f'rank of the matrix is: {temp.rank()}')\n",
    "M_2_0.det()"
   ],
   "outputs": [
    {
     "name": "stdout",
     "output_type": "stream",
     "text": [
      "rank of the matrix is: 1\n"
     ]
    },
    {
     "data": {
      "text/plain": [
       "(x**3 + 6*x**2 + 12*x + 8)/x**3"
      ],
      "text/latex": "$\\displaystyle \\frac{x^{3} + 6 x^{2} + 12 x + 8}{x^{3}}$"
     },
     "execution_count": 27,
     "metadata": {},
     "output_type": "execute_result"
    }
   ],
   "execution_count": 27
  },
  {
   "cell_type": "code",
   "id": "7d11c4c9",
   "metadata": {
    "ExecuteTime": {
     "end_time": "2025-09-21T22:30:39.779404Z",
     "start_time": "2025-09-21T22:30:39.766404Z"
    }
   },
   "source": [
    "# note that this inverse is undefined (i.e. step -1 in y direction)\n",
    "M_0_m1 = M2.T.subs({y: y - 1})\n",
    "temp = M_0_m1.subs({x: 1, y: 1})\n",
    "M_0_m1"
   ],
   "outputs": [
    {
     "data": {
      "text/plain": [
       "Matrix([\n",
       "[(-x**3 + 2*x**2*(y - 1) - 2*x*(y - 1)**2 + (y - 1)**3)/(y - 1)**3,                                          x**3/(y - 1)**3],\n",
       "[                                                 -x**3/(y - 1)**3, (x**3 + 2*x**2 + 2*x*(y - 1)**2 + (y - 1)**3)/(y - 1)**3]])"
      ],
      "text/latex": "$\\displaystyle \\left[\\begin{matrix}\\frac{- x^{3} + 2 x^{2} \\left(y - 1\\right) - 2 x \\left(y - 1\\right)^{2} + \\left(y - 1\\right)^{3}}{\\left(y - 1\\right)^{3}} & \\frac{x^{3}}{\\left(y - 1\\right)^{3}}\\\\- \\frac{x^{3}}{\\left(y - 1\\right)^{3}} & \\frac{x^{3} + 2 x^{2} + 2 x \\left(y - 1\\right)^{2} + \\left(y - 1\\right)^{3}}{\\left(y - 1\\right)^{3}}\\end{matrix}\\right]$"
     },
     "execution_count": 28,
     "metadata": {},
     "output_type": "execute_result"
    }
   ],
   "execution_count": 28
  },
  {
   "cell_type": "code",
   "id": "831503a6",
   "metadata": {
    "ExecuteTime": {
     "end_time": "2025-09-21T22:30:39.932608Z",
     "start_time": "2025-09-21T22:30:39.926604Z"
    }
   },
   "source": [
    "temp"
   ],
   "outputs": [
    {
     "data": {
      "text/plain": [
       "Matrix([\n",
       "[zoo, zoo],\n",
       "[zoo, zoo]])"
      ],
      "text/latex": "$\\displaystyle \\left[\\begin{matrix}\\tilde{\\infty} & \\tilde{\\infty}\\\\\\tilde{\\infty} & \\tilde{\\infty}\\end{matrix}\\right]$"
     },
     "execution_count": 29,
     "metadata": {},
     "output_type": "execute_result"
    }
   ],
   "execution_count": 29
  },
  {
   "cell_type": "markdown",
   "id": "588f2f8f",
   "metadata": {},
   "source": [
    "-------------"
   ]
  },
  {
   "cell_type": "markdown",
   "id": "829466e5",
   "metadata": {},
   "source": [
    "Trajectory composition: $T_{x,v}(k)$"
   ]
  },
  {
   "cell_type": "code",
   "id": "11f511ef",
   "metadata": {
    "ExecuteTime": {
     "end_time": "2025-09-21T22:30:41.356246Z",
     "start_time": "2025-09-21T22:30:41.348195Z"
    }
   },
   "source": [
    "T_1_1_1_0 = M1.subs({x: n + 1, y: 1}) # trajectory in x direction only starting at (1, 1)\n",
    "T_1_1_1_0"
   ],
   "outputs": [
    {
     "data": {
      "text/plain": [
       "Matrix([\n",
       "[                    0,                                   -1],\n",
       "[(n + 2)**3/(n + 1)**3, ((n + 1)**3 + (n + 2)**3)/(n + 1)**3]])"
      ],
      "text/latex": "$\\displaystyle \\left[\\begin{matrix}0 & -1\\\\\\frac{\\left(n + 2\\right)^{3}}{\\left(n + 1\\right)^{3}} & \\frac{\\left(n + 1\\right)^{3} + \\left(n + 2\\right)^{3}}{\\left(n + 1\\right)^{3}}\\end{matrix}\\right]$"
     },
     "execution_count": 30,
     "metadata": {},
     "output_type": "execute_result"
    }
   ],
   "execution_count": 30
  },
  {
   "cell_type": "code",
   "id": "798bce01",
   "metadata": {
    "ExecuteTime": {
     "end_time": "2025-09-21T22:30:41.914227Z",
     "start_time": "2025-09-21T22:30:41.884002Z"
    }
   },
   "source": [
    "# General trjectory: start at (a,b) direciton vector (c, d)\n",
    "a= 1\n",
    "b= 1\n",
    "c = 1\n",
    "d = 1\n",
    "\n",
    "start = {x: a + n* (1 if c != 0 else 0), y: b + n*(1 if d != 0 else 0)}\n",
    "traj = (c, d)\n",
    "\n",
    "tm = sp.eye(2)\n",
    "for i in range(c):\n",
    "    tm = tm * M1.subs({x: x + i})\n",
    "for i in range(d):\n",
    "    tm = tm * M2.subs({x: x + c, y: y + i})\n",
    "\n",
    "tm.subs(start)\n",
    "\n",
    "# sp.simplify(tm.subs(start))"
   ],
   "outputs": [
    {
     "data": {
      "text/plain": [
       "Matrix([\n",
       "[                                                                                                                                                 -(n + 2)**3/(n + 1)**3,                                                                           -((n + 1)**3 + 2*(n + 1)**2*(n + 2) + (n + 2)**3 + 2*(n + 2)**2)/(n + 1)**3],\n",
       "[(n + 2)**3*(2*n*(n + 1)*(2*n + 3) + (n + 1)**3 + (n + 2)**3)/(n + 1)**6 + (n + 2)**3*((n + 1)**3 - 2*(n + 1)**2*(n + 2) + 2*(n + 1)*(n + 2)**2 - (n + 2)**3)/(n + 1)**6, -(n + 2)**6/(n + 1)**6 + (2*n*(n + 1)*(2*n + 3) + (n + 1)**3 + (n + 2)**3)*((n + 1)**3 + 2*(n + 1)**2*(n + 2) + (n + 2)**3 + 2*(n + 2)**2)/(n + 1)**6]])"
      ],
      "text/latex": "$\\displaystyle \\left[\\begin{matrix}- \\frac{\\left(n + 2\\right)^{3}}{\\left(n + 1\\right)^{3}} & - \\frac{\\left(n + 1\\right)^{3} + 2 \\left(n + 1\\right)^{2} \\left(n + 2\\right) + \\left(n + 2\\right)^{3} + 2 \\left(n + 2\\right)^{2}}{\\left(n + 1\\right)^{3}}\\\\\\frac{\\left(n + 2\\right)^{3} \\left(2 n \\left(n + 1\\right) \\left(2 n + 3\\right) + \\left(n + 1\\right)^{3} + \\left(n + 2\\right)^{3}\\right)}{\\left(n + 1\\right)^{6}} + \\frac{\\left(n + 2\\right)^{3} \\left(\\left(n + 1\\right)^{3} - 2 \\left(n + 1\\right)^{2} \\left(n + 2\\right) + 2 \\left(n + 1\\right) \\left(n + 2\\right)^{2} - \\left(n + 2\\right)^{3}\\right)}{\\left(n + 1\\right)^{6}} & - \\frac{\\left(n + 2\\right)^{6}}{\\left(n + 1\\right)^{6}} + \\frac{\\left(2 n \\left(n + 1\\right) \\left(2 n + 3\\right) + \\left(n + 1\\right)^{3} + \\left(n + 2\\right)^{3}\\right) \\left(\\left(n + 1\\right)^{3} + 2 \\left(n + 1\\right)^{2} \\left(n + 2\\right) + \\left(n + 2\\right)^{3} + 2 \\left(n + 2\\right)^{2}\\right)}{\\left(n + 1\\right)^{6}}\\end{matrix}\\right]$"
     },
     "execution_count": 31,
     "metadata": {},
     "output_type": "execute_result"
    }
   ],
   "execution_count": 31
  },
  {
   "cell_type": "code",
   "id": "b4afe175",
   "metadata": {
    "ExecuteTime": {
     "end_time": "2025-09-21T22:30:42.444814Z",
     "start_time": "2025-09-21T22:30:42.442299Z"
    }
   },
   "source": [],
   "outputs": [],
   "execution_count": null
  },
  {
   "cell_type": "code",
   "id": "c52da583",
   "metadata": {
    "ExecuteTime": {
     "end_time": "2025-09-21T22:30:42.942805Z",
     "start_time": "2025-09-21T22:30:42.939546Z"
    }
   },
   "source": [
    "# 95 * 0.8 + 0.06 * 100 + 0.03 * 94 + 0.05 * 100 + 0.03 * 100 + 0.03 * 96"
   ],
   "outputs": [],
   "execution_count": 32
  },
  {
   "cell_type": "code",
   "id": "dc5857ab",
   "metadata": {
    "ExecuteTime": {
     "end_time": "2025-09-21T22:30:43.872659Z",
     "start_time": "2025-09-21T22:30:43.861096Z"
    }
   },
   "source": [
    "pi = pFq(2, 1, sp.Rational(1,2))\n",
    "x0, x1, y0 = sp.symbols('x0 x1 y0')\n",
    "pi"
   ],
   "outputs": [
    {
     "data": {
      "text/plain": [
       "pFq((2, 1, 1/2, True, True))"
      ],
      "text/latex": "\\begin{array}{l}x_{0} \\mapsto \\left[\\begin{matrix}1 & x_{1}\\\\\\frac{1}{x_{0}} & 1 + \\frac{x_{0} + x_{1} - 2 y_{0} + 2}{x_{0}}\\end{matrix}\\right]\\\\ x_{1} \\mapsto \\left[\\begin{matrix}1 & x_{0}\\\\\\frac{1}{x_{1}} & 1 + \\frac{x_{0} + x_{1} - 2 y_{0} + 2}{x_{1}}\\end{matrix}\\right]\\\\ y_{0} \\mapsto \\left[\\begin{matrix}- \\frac{y_{0} \\left(x_{0} + x_{1} - y_{0}\\right)}{\\left(x_{0} - y_{0}\\right) \\left(x_{1} - y_{0}\\right)} & \\frac{x_{0} x_{1} y_{0}}{\\left(x_{0} - y_{0}\\right) \\left(x_{1} - y_{0}\\right)}\\\\\\frac{y_{0}}{\\left(x_{0} - y_{0}\\right) \\left(x_{1} - y_{0}\\right)} & - \\frac{y_{0}^{2}}{\\left(x_{0} - y_{0}\\right) \\left(x_{1} - y_{0}\\right)}\\end{matrix}\\right]\\end{array}"
     },
     "execution_count": 33,
     "metadata": {},
     "output_type": "execute_result"
    }
   ],
   "execution_count": 33
  },
  {
   "metadata": {
    "ExecuteTime": {
     "end_time": "2025-09-21T22:35:40.664554Z",
     "start_time": "2025-09-21T22:35:39.963379Z"
    }
   },
   "cell_type": "code",
   "source": "pi.limit({x0: 3, x1: 2, y0: 0}, 2000, {x0: 1, x1: 2, y0: 1}).delta(mp.pi)",
   "id": "de0d778c101db4c1",
   "outputs": [
    {
     "data": {
      "text/plain": [
       "-1.000061145767917"
      ]
     },
     "execution_count": 48,
     "metadata": {},
     "output_type": "execute_result"
    }
   ],
   "execution_count": 48
  },
  {
   "metadata": {},
   "cell_type": "code",
   "outputs": [],
   "execution_count": null,
   "source": "",
   "id": "e3e170c594b1cca8"
  }
 ],
 "metadata": {
  "kernelspec": {
   "display_name": ".venv",
   "language": "python",
   "name": "python3"
  },
  "language_info": {
   "codemirror_mode": {
    "name": "ipython",
    "version": 3
   },
   "file_extension": ".py",
   "mimetype": "text/x-python",
   "name": "python",
   "nbconvert_exporter": "python",
   "pygments_lexer": "ipython3",
   "version": "3.12.6"
  }
 },
 "nbformat": 4,
 "nbformat_minor": 5
}
